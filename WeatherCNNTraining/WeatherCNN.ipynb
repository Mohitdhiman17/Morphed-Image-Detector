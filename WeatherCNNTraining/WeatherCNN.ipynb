{
 "cells": [
  {
   "cell_type": "code",
   "execution_count": 1,
   "metadata": {},
   "outputs": [],
   "source": [
    "import os\n",
    "from PIL import Image\n",
    "import cv2\n",
    "import numpy as np"
   ]
  },
  {
   "cell_type": "code",
   "execution_count": 2,
   "metadata": {},
   "outputs": [
    {
     "name": "stdout",
     "output_type": "stream",
     "text": [
      "Adding images in  lightning\n",
      "\t 377  images\n",
      "Adding images in  rain\n",
      "\t 526  images\n",
      "Adding images in  snow\n",
      "\t 620  images\n",
      "Adding images in  sunny\n",
      "\t 732  images\n"
     ]
    }
   ],
   "source": [
    "images = []\n",
    "labels = []\n",
    "\n",
    "label = 0\n",
    "for classes in os.listdir('Data/'):\n",
    "    class_folder = os.path.join('Data',classes)\n",
    "    print('Adding images in ',classes)\n",
    "    #print(class_folder)\n",
    "    img_ct = 0\n",
    "    for image_name in os.listdir(class_folder):\n",
    "        img_name = os.path.join(class_folder,image_name)\n",
    "        img = cv2.imread(img_name)\n",
    "        #resize\n",
    "        img = cv2.resize(img,(128,128))\n",
    "        #normalize\n",
    "        img = img/255.0\n",
    "        images.append(img)\n",
    "        labels.append(label)\n",
    "        img_ct+=1\n",
    "    print('\\t',img_ct,' images')\n",
    "    label=label+1"
   ]
  },
  {
   "cell_type": "code",
   "execution_count": 3,
   "metadata": {},
   "outputs": [],
   "source": [
    "from keras.utils.np_utils import to_categorical\n",
    "\n",
    "X = np.array(images)\n",
    "Y = to_categorical(labels, 4)\n",
    "X = X.reshape(-1, 128, 128, 3)"
   ]
  },
  {
   "cell_type": "code",
   "execution_count": 4,
   "metadata": {},
   "outputs": [
    {
     "data": {
      "text/plain": [
       "array([[1., 0., 0., 0.],\n",
       "       [1., 0., 0., 0.],\n",
       "       [1., 0., 0., 0.],\n",
       "       ...,\n",
       "       [0., 0., 0., 1.],\n",
       "       [0., 0., 0., 1.],\n",
       "       [0., 0., 0., 1.]], dtype=float32)"
      ]
     },
     "execution_count": 4,
     "metadata": {},
     "output_type": "execute_result"
    }
   ],
   "source": [
    "Y"
   ]
  },
  {
   "cell_type": "code",
   "execution_count": 5,
   "metadata": {},
   "outputs": [],
   "source": [
    "import numpy as np\n",
    "from sklearn.model_selection import train_test_split\n",
    "\n",
    "X_train, X_val, y_train, y_val = train_test_split(\n",
    "    X, Y, test_size=.2, random_state=0, stratify=Y\n",
    ")"
   ]
  },
  {
   "cell_type": "code",
   "execution_count": 6,
   "metadata": {},
   "outputs": [
    {
     "name": "stdout",
     "output_type": "stream",
     "text": [
      "1804\n"
     ]
    }
   ],
   "source": [
    "print(len(y_train))"
   ]
  },
  {
   "cell_type": "code",
   "execution_count": 7,
   "metadata": {},
   "outputs": [
    {
     "data": {
      "text/plain": [
       "array([[0., 1., 0., 0.],\n",
       "       [0., 0., 1., 0.],\n",
       "       [0., 1., 0., 0.],\n",
       "       ...,\n",
       "       [0., 0., 1., 0.],\n",
       "       [1., 0., 0., 0.],\n",
       "       [0., 0., 1., 0.]], dtype=float32)"
      ]
     },
     "execution_count": 7,
     "metadata": {},
     "output_type": "execute_result"
    }
   ],
   "source": [
    "y_train"
   ]
  },
  {
   "cell_type": "code",
   "execution_count": 8,
   "metadata": {},
   "outputs": [
    {
     "data": {
      "text/plain": [
       "array([[[[0.78039216, 0.82745098, 0.78431373],\n",
       "         [0.80392157, 0.78823529, 0.77647059],\n",
       "         [0.80392157, 0.77647059, 0.78039216],\n",
       "         ...,\n",
       "         [0.06666667, 0.20784314, 0.18431373],\n",
       "         [0.08235294, 0.22352941, 0.2       ],\n",
       "         [0.08235294, 0.22352941, 0.20392157]],\n",
       "\n",
       "        [[0.68627451, 0.74509804, 0.70196078],\n",
       "         [0.83529412, 0.81960784, 0.80784314],\n",
       "         [0.84313725, 0.81176471, 0.81568627],\n",
       "         ...,\n",
       "         [0.08235294, 0.22352941, 0.2       ],\n",
       "         [0.10980392, 0.25098039, 0.22745098],\n",
       "         [0.08627451, 0.22745098, 0.20392157]],\n",
       "\n",
       "        [[0.39215686, 0.4745098 , 0.42745098],\n",
       "         [0.85490196, 0.85098039, 0.83529412],\n",
       "         [0.82352941, 0.78823529, 0.79607843],\n",
       "         ...,\n",
       "         [0.15294118, 0.29411765, 0.27058824],\n",
       "         [0.10588235, 0.24705882, 0.22352941],\n",
       "         [0.08235294, 0.22352941, 0.2       ]],\n",
       "\n",
       "        ...,\n",
       "\n",
       "        [[0.69019608, 0.70980392, 0.67843137],\n",
       "         [0.64705882, 0.6627451 , 0.63137255],\n",
       "         [0.62352941, 0.64313725, 0.60784314],\n",
       "         ...,\n",
       "         [0.31764706, 0.39215686, 0.38039216],\n",
       "         [0.07843137, 0.15294118, 0.14117647],\n",
       "         [0.17647059, 0.24705882, 0.25098039]],\n",
       "\n",
       "        [[0.59607843, 0.6       , 0.59607843],\n",
       "         [0.56862745, 0.56470588, 0.55686275],\n",
       "         [0.70196078, 0.69019608, 0.67058824],\n",
       "         ...,\n",
       "         [0.14117647, 0.21568627, 0.20784314],\n",
       "         [0.12941176, 0.21960784, 0.20392157],\n",
       "         [0.11764706, 0.19607843, 0.2       ]],\n",
       "\n",
       "        [[0.62745098, 0.63137255, 0.63137255],\n",
       "         [0.66666667, 0.65882353, 0.65490196],\n",
       "         [0.51764706, 0.50196078, 0.48235294],\n",
       "         ...,\n",
       "         [0.21176471, 0.28627451, 0.2745098 ],\n",
       "         [0.12156863, 0.21568627, 0.2       ],\n",
       "         [0.09803922, 0.17647059, 0.18039216]]],\n",
       "\n",
       "\n",
       "       [[[0.56470588, 0.45098039, 0.31764706],\n",
       "         [0.53333333, 0.44705882, 0.31764706],\n",
       "         [0.45098039, 0.43137255, 0.38823529],\n",
       "         ...,\n",
       "         [0.54117647, 0.45490196, 0.28627451],\n",
       "         [0.56078431, 0.43529412, 0.2627451 ],\n",
       "         [0.50980392, 0.37647059, 0.18823529]],\n",
       "\n",
       "        [[0.4627451 , 0.39215686, 0.32941176],\n",
       "         [0.38823529, 0.34509804, 0.2627451 ],\n",
       "         [0.25490196, 0.22745098, 0.19215686],\n",
       "         ...,\n",
       "         [0.46666667, 0.43137255, 0.40392157],\n",
       "         [0.32156863, 0.31372549, 0.27843137],\n",
       "         [0.3254902 , 0.3254902 , 0.27843137]],\n",
       "\n",
       "        [[0.23921569, 0.19215686, 0.17647059],\n",
       "         [0.21960784, 0.18823529, 0.14509804],\n",
       "         [0.20784314, 0.15686275, 0.11372549],\n",
       "         ...,\n",
       "         [0.40392157, 0.29803922, 0.17647059],\n",
       "         [0.39215686, 0.30588235, 0.19607843],\n",
       "         [0.35686275, 0.2745098 , 0.2       ]],\n",
       "\n",
       "        ...,\n",
       "\n",
       "        [[0.77254902, 0.79215686, 0.78431373],\n",
       "         [0.78431373, 0.81176471, 0.8       ],\n",
       "         [0.74117647, 0.77647059, 0.76862745],\n",
       "         ...,\n",
       "         [0.82352941, 0.83137255, 0.83529412],\n",
       "         [0.81568627, 0.83921569, 0.83921569],\n",
       "         [0.83921569, 0.85882353, 0.85882353]],\n",
       "\n",
       "        [[0.81960784, 0.83529412, 0.82745098],\n",
       "         [0.77647059, 0.79215686, 0.79215686],\n",
       "         [0.36862745, 0.35686275, 0.3372549 ],\n",
       "         ...,\n",
       "         [0.78039216, 0.79215686, 0.79607843],\n",
       "         [0.79607843, 0.81960784, 0.82352941],\n",
       "         [0.80784314, 0.83921569, 0.83529412]],\n",
       "\n",
       "        [[0.77647059, 0.78823529, 0.78039216],\n",
       "         [0.3254902 , 0.30196078, 0.2745098 ],\n",
       "         [0.5372549 , 0.50588235, 0.47843137],\n",
       "         ...,\n",
       "         [0.78823529, 0.81176471, 0.81960784],\n",
       "         [0.81960784, 0.83921569, 0.84705882],\n",
       "         [0.82745098, 0.85490196, 0.85490196]]],\n",
       "\n",
       "\n",
       "       [[[0.1254902 , 0.10588235, 0.09803922],\n",
       "         [0.23529412, 0.21176471, 0.19215686],\n",
       "         [0.31372549, 0.31372549, 0.30980392],\n",
       "         ...,\n",
       "         [0.45098039, 0.46666667, 0.52156863],\n",
       "         [0.36078431, 0.37647059, 0.41568627],\n",
       "         [0.45490196, 0.4627451 , 0.49803922]],\n",
       "\n",
       "        [[0.07843137, 0.07058824, 0.07058824],\n",
       "         [0.21176471, 0.18823529, 0.17254902],\n",
       "         [0.28235294, 0.28235294, 0.27843137],\n",
       "         ...,\n",
       "         [0.27843137, 0.29411765, 0.34509804],\n",
       "         [0.50196078, 0.50980392, 0.55294118],\n",
       "         [0.4745098 , 0.48235294, 0.51764706]],\n",
       "\n",
       "        [[0.10196078, 0.09411765, 0.09019608],\n",
       "         [0.19607843, 0.17647059, 0.16470588],\n",
       "         [0.30980392, 0.30980392, 0.30588235],\n",
       "         ...,\n",
       "         [0.30980392, 0.32156863, 0.36078431],\n",
       "         [0.49411765, 0.50980392, 0.56470588],\n",
       "         [0.52156863, 0.51764706, 0.55294118]],\n",
       "\n",
       "        ...,\n",
       "\n",
       "        [[0.08627451, 0.10588235, 0.12941176],\n",
       "         [0.43529412, 0.45490196, 0.46666667],\n",
       "         [0.52941176, 0.54901961, 0.55686275],\n",
       "         ...,\n",
       "         [0.87058824, 0.82352941, 0.80392157],\n",
       "         [0.8627451 , 0.81568627, 0.8       ],\n",
       "         [0.8627451 , 0.81568627, 0.79215686]],\n",
       "\n",
       "        [[0.08235294, 0.10980392, 0.12156863],\n",
       "         [0.1254902 , 0.14117647, 0.16078431],\n",
       "         [0.29803922, 0.3254902 , 0.3372549 ],\n",
       "         ...,\n",
       "         [0.74117647, 0.69411765, 0.67843137],\n",
       "         [0.7372549 , 0.69019608, 0.6745098 ],\n",
       "         [0.76862745, 0.71372549, 0.70196078]],\n",
       "\n",
       "        [[0.08235294, 0.10588235, 0.1254902 ],\n",
       "         [0.09019608, 0.10196078, 0.13333333],\n",
       "         [0.06666667, 0.09019608, 0.10980392],\n",
       "         ...,\n",
       "         [0.78823529, 0.7372549 , 0.72941176],\n",
       "         [0.71764706, 0.67058824, 0.6627451 ],\n",
       "         [0.6745098 , 0.63137255, 0.61960784]]],\n",
       "\n",
       "\n",
       "       ...,\n",
       "\n",
       "\n",
       "       [[[0.72941176, 0.69411765, 0.68627451],\n",
       "         [0.73333333, 0.69803922, 0.68627451],\n",
       "         [0.7372549 , 0.70196078, 0.69019608],\n",
       "         ...,\n",
       "         [0.16078431, 0.13333333, 0.12156863],\n",
       "         [0.23137255, 0.21176471, 0.2       ],\n",
       "         [0.2745098 , 0.2627451 , 0.24705882]],\n",
       "\n",
       "        [[0.73333333, 0.69803922, 0.68627451],\n",
       "         [0.73333333, 0.69803922, 0.69019608],\n",
       "         [0.7372549 , 0.70196078, 0.69019608],\n",
       "         ...,\n",
       "         [0.21568627, 0.18823529, 0.17647059],\n",
       "         [0.16862745, 0.14901961, 0.1372549 ],\n",
       "         [0.3254902 , 0.31372549, 0.29803922]],\n",
       "\n",
       "        [[0.7372549 , 0.69803922, 0.69019608],\n",
       "         [0.7372549 , 0.70196078, 0.69019608],\n",
       "         [0.74117647, 0.70588235, 0.69411765],\n",
       "         ...,\n",
       "         [0.22352941, 0.19607843, 0.18431373],\n",
       "         [0.25882353, 0.23529412, 0.22352941],\n",
       "         [0.42745098, 0.41176471, 0.4       ]],\n",
       "\n",
       "        ...,\n",
       "\n",
       "        [[0.25098039, 0.22745098, 0.23137255],\n",
       "         [0.25098039, 0.22745098, 0.23137255],\n",
       "         [0.25490196, 0.23137255, 0.23529412],\n",
       "         ...,\n",
       "         [0.20392157, 0.2       , 0.21568627],\n",
       "         [0.15294118, 0.14901961, 0.16078431],\n",
       "         [0.15294118, 0.14901961, 0.16078431]],\n",
       "\n",
       "        [[0.30980392, 0.29411765, 0.30196078],\n",
       "         [0.24313725, 0.22745098, 0.23529412],\n",
       "         [0.2745098 , 0.25882353, 0.26666667],\n",
       "         ...,\n",
       "         [0.2       , 0.19607843, 0.20392157],\n",
       "         [0.2       , 0.19607843, 0.20784314],\n",
       "         [0.18823529, 0.18431373, 0.2       ]],\n",
       "\n",
       "        [[0.24705882, 0.25490196, 0.2745098 ],\n",
       "         [0.2627451 , 0.2627451 , 0.28235294],\n",
       "         [0.27058824, 0.2745098 , 0.28627451],\n",
       "         ...,\n",
       "         [0.08627451, 0.08627451, 0.08627451],\n",
       "         [0.19215686, 0.18823529, 0.19215686],\n",
       "         [0.18823529, 0.18431373, 0.19215686]]],\n",
       "\n",
       "\n",
       "       [[[0.53333333, 0.03529412, 0.03921569],\n",
       "         [0.53333333, 0.03137255, 0.03529412],\n",
       "         [0.53333333, 0.03529412, 0.03921569],\n",
       "         ...,\n",
       "         [0.50196078, 0.04313725, 0.03921569],\n",
       "         [0.50588235, 0.03529412, 0.03529412],\n",
       "         [0.47843137, 0.03921569, 0.03137255]],\n",
       "\n",
       "        [[0.5372549 , 0.03529412, 0.04313725],\n",
       "         [0.54117647, 0.03529412, 0.03921569],\n",
       "         [0.54509804, 0.03529412, 0.04313725],\n",
       "         ...,\n",
       "         [0.50980392, 0.04313725, 0.03921569],\n",
       "         [0.51764706, 0.03921569, 0.03921569],\n",
       "         [0.49019608, 0.03921569, 0.03529412]],\n",
       "\n",
       "        [[0.54117647, 0.03921569, 0.04313725],\n",
       "         [0.54901961, 0.03137255, 0.03921569],\n",
       "         [0.56470588, 0.03921569, 0.04705882],\n",
       "         ...,\n",
       "         [0.5254902 , 0.04313725, 0.04313725],\n",
       "         [0.5372549 , 0.03529412, 0.03921569],\n",
       "         [0.50980392, 0.03921569, 0.03921569]],\n",
       "\n",
       "        ...,\n",
       "\n",
       "        [[0.12156863, 0.04705882, 0.01960784],\n",
       "         [0.11372549, 0.04313725, 0.02352941],\n",
       "         [0.30980392, 0.25882353, 0.23921569],\n",
       "         ...,\n",
       "         [0.1254902 , 0.04705882, 0.02745098],\n",
       "         [0.1254902 , 0.04705882, 0.02745098],\n",
       "         [0.1254902 , 0.04705882, 0.02745098]],\n",
       "\n",
       "        [[0.12156863, 0.04313725, 0.01568627],\n",
       "         [0.10196078, 0.03137255, 0.00784314],\n",
       "         [0.12941176, 0.05882353, 0.02745098],\n",
       "         ...,\n",
       "         [0.1254902 , 0.04705882, 0.02745098],\n",
       "         [0.1254902 , 0.04705882, 0.02745098],\n",
       "         [0.1254902 , 0.04705882, 0.02745098]],\n",
       "\n",
       "        [[0.1254902 , 0.05098039, 0.02352941],\n",
       "         [0.1254902 , 0.05098039, 0.02352941],\n",
       "         [0.1254902 , 0.05098039, 0.02745098],\n",
       "         ...,\n",
       "         [0.10588235, 0.04705882, 0.02745098],\n",
       "         [0.1254902 , 0.04705882, 0.02745098],\n",
       "         [0.10980392, 0.04705882, 0.02352941]]],\n",
       "\n",
       "\n",
       "       [[[0.48627451, 0.58039216, 0.62745098],\n",
       "         [0.34509804, 0.40392157, 0.45098039],\n",
       "         [0.44705882, 0.48235294, 0.5254902 ],\n",
       "         ...,\n",
       "         [0.49411765, 0.54509804, 0.59215686],\n",
       "         [0.45882353, 0.50980392, 0.55686275],\n",
       "         [0.49803922, 0.54901961, 0.6       ]],\n",
       "\n",
       "        [[0.56862745, 0.66666667, 0.7254902 ],\n",
       "         [0.4627451 , 0.5254902 , 0.57647059],\n",
       "         [0.32156863, 0.36470588, 0.40392157],\n",
       "         ...,\n",
       "         [0.46666667, 0.5372549 , 0.59607843],\n",
       "         [0.43529412, 0.50588235, 0.56078431],\n",
       "         [0.48235294, 0.55294118, 0.61176471]],\n",
       "\n",
       "        [[0.45882353, 0.55686275, 0.63529412],\n",
       "         [0.53333333, 0.60784314, 0.6627451 ],\n",
       "         [0.35686275, 0.41568627, 0.45098039],\n",
       "         ...,\n",
       "         [0.4627451 , 0.54509804, 0.60392157],\n",
       "         [0.49411765, 0.58431373, 0.64313725],\n",
       "         [0.41176471, 0.49411765, 0.55686275]],\n",
       "\n",
       "        ...,\n",
       "\n",
       "        [[0.39607843, 0.39607843, 0.34901961],\n",
       "         [0.45098039, 0.44313725, 0.4       ],\n",
       "         [0.43529412, 0.42352941, 0.38039216],\n",
       "         ...,\n",
       "         [0.25882353, 0.24313725, 0.21960784],\n",
       "         [0.23921569, 0.22352941, 0.20392157],\n",
       "         [0.2       , 0.19215686, 0.16078431]],\n",
       "\n",
       "        [[0.39607843, 0.39607843, 0.34901961],\n",
       "         [0.45882353, 0.45098039, 0.40784314],\n",
       "         [0.4627451 , 0.45098039, 0.40784314],\n",
       "         ...,\n",
       "         [0.47058824, 0.45490196, 0.43137255],\n",
       "         [0.50196078, 0.48627451, 0.46666667],\n",
       "         [0.43137255, 0.42352941, 0.39215686]],\n",
       "\n",
       "        [[0.36078431, 0.36078431, 0.31372549],\n",
       "         [0.39215686, 0.38431373, 0.34117647],\n",
       "         [0.41568627, 0.40784314, 0.36470588],\n",
       "         ...,\n",
       "         [0.39215686, 0.37647059, 0.35294118],\n",
       "         [0.31372549, 0.29803922, 0.27843137],\n",
       "         [0.23137255, 0.22352941, 0.19215686]]]])"
      ]
     },
     "execution_count": 8,
     "metadata": {},
     "output_type": "execute_result"
    }
   ],
   "source": [
    "X_train"
   ]
  },
  {
   "cell_type": "code",
   "execution_count": 9,
   "metadata": {},
   "outputs": [
    {
     "data": {
      "text/plain": [
       "(451, 128, 128, 3)"
      ]
     },
     "execution_count": 9,
     "metadata": {},
     "output_type": "execute_result"
    }
   ],
   "source": [
    "X_val.shape"
   ]
  },
  {
   "cell_type": "code",
   "execution_count": 10,
   "metadata": {},
   "outputs": [],
   "source": [
    "num_classes = 4"
   ]
  },
  {
   "cell_type": "code",
   "execution_count": 11,
   "metadata": {},
   "outputs": [],
   "source": [
    "from keras.models import Sequential\n",
    "from keras.layers import Conv2D, MaxPooling2D, Flatten, Dropout, Dense\n",
    "\n",
    "model = Sequential()\n",
    "model.add(Conv2D(32, kernel_size=(1,1),input_shape=(128, 128, 3), activation='relu'))\n",
    "model.add(MaxPooling2D(pool_size=(2, 2)))\n",
    "model.add(Conv2D(32, kernel_size=(5,5), activation='relu'))\n",
    "model.add(MaxPooling2D(pool_size=(2, 2)))\n",
    "model.add(Flatten())\n",
    "model.add(Dense(100, activation = 'relu'))\n",
    "model.add(Dense(100, activation = 'relu'))\n",
    "model.add(Dropout(0.5))\n",
    "model.add(Dense(50, activation = 'relu'))\n",
    "model.add(Dense(num_classes, activation='softmax'))"
   ]
  },
  {
   "cell_type": "code",
   "execution_count": 12,
   "metadata": {},
   "outputs": [],
   "source": [
    "def scheduler(epoch):\n",
    "    lr = 0.0001\n",
    "    if epoch < 10:\n",
    "      return lr\n",
    "    else:\n",
    "      return lr * (0.9)"
   ]
  },
  {
   "cell_type": "code",
   "execution_count": 13,
   "metadata": {},
   "outputs": [],
   "source": [
    "from tensorflow.keras.optimizers import Adam\n",
    "from tensorflow.keras.callbacks import EarlyStopping, ModelCheckpoint, LearningRateScheduler, TensorBoard\n",
    "\n",
    "opt = Adam(learning_rate=1e-5)\n",
    "\n",
    "learning_rs = LearningRateScheduler(scheduler)\n",
    "callbacks_all = [learning_rs]\n",
    "\n",
    "model.compile(loss='categorical_crossentropy', optimizer=opt, metrics=['accuracy'])"
   ]
  },
  {
   "cell_type": "code",
   "execution_count": 14,
   "metadata": {},
   "outputs": [
    {
     "name": "stdout",
     "output_type": "stream",
     "text": [
      "Model: \"sequential\"\n",
      "_________________________________________________________________\n",
      " Layer (type)                Output Shape              Param #   \n",
      "=================================================================\n",
      " conv2d (Conv2D)             (None, 128, 128, 32)      128       \n",
      "                                                                 \n",
      " max_pooling2d (MaxPooling2D  (None, 64, 64, 32)       0         \n",
      " )                                                               \n",
      "                                                                 \n",
      " conv2d_1 (Conv2D)           (None, 60, 60, 32)        25632     \n",
      "                                                                 \n",
      " max_pooling2d_1 (MaxPooling  (None, 30, 30, 32)       0         \n",
      " 2D)                                                             \n",
      "                                                                 \n",
      " flatten (Flatten)           (None, 28800)             0         \n",
      "                                                                 \n",
      " dense (Dense)               (None, 100)               2880100   \n",
      "                                                                 \n",
      " dense_1 (Dense)             (None, 100)               10100     \n",
      "                                                                 \n",
      " dropout (Dropout)           (None, 100)               0         \n",
      "                                                                 \n",
      " dense_2 (Dense)             (None, 50)                5050      \n",
      "                                                                 \n",
      " dense_3 (Dense)             (None, 4)                 204       \n",
      "                                                                 \n",
      "=================================================================\n",
      "Total params: 2,921,214\n",
      "Trainable params: 2,921,214\n",
      "Non-trainable params: 0\n",
      "_________________________________________________________________\n"
     ]
    }
   ],
   "source": [
    "model.summary()"
   ]
  },
  {
   "cell_type": "code",
   "execution_count": 15,
   "metadata": {},
   "outputs": [
    {
     "name": "stdout",
     "output_type": "stream",
     "text": [
      "Epoch 1/20\n",
      "57/57 - 29s - loss: 1.2776 - accuracy: 0.3930 - val_loss: 1.0562 - val_accuracy: 0.6142 - lr: 1.0000e-04 - 29s/epoch - 504ms/step\n",
      "Epoch 2/20\n",
      "57/57 - 19s - loss: 0.9660 - accuracy: 0.5715 - val_loss: 0.7806 - val_accuracy: 0.6608 - lr: 1.0000e-04 - 19s/epoch - 335ms/step\n",
      "Epoch 3/20\n",
      "57/57 - 19s - loss: 0.8090 - accuracy: 0.6879 - val_loss: 0.7699 - val_accuracy: 0.7073 - lr: 1.0000e-04 - 19s/epoch - 330ms/step\n",
      "Epoch 4/20\n",
      "57/57 - 19s - loss: 0.7180 - accuracy: 0.7312 - val_loss: 0.6406 - val_accuracy: 0.7627 - lr: 1.0000e-04 - 19s/epoch - 336ms/step\n",
      "Epoch 5/20\n",
      "57/57 - 19s - loss: 0.6528 - accuracy: 0.7616 - val_loss: 0.6445 - val_accuracy: 0.7738 - lr: 1.0000e-04 - 19s/epoch - 337ms/step\n",
      "Epoch 6/20\n",
      "57/57 - 18s - loss: 0.5810 - accuracy: 0.7921 - val_loss: 0.5961 - val_accuracy: 0.8004 - lr: 1.0000e-04 - 18s/epoch - 318ms/step\n",
      "Epoch 7/20\n",
      "57/57 - 18s - loss: 0.5356 - accuracy: 0.8054 - val_loss: 0.5890 - val_accuracy: 0.7938 - lr: 1.0000e-04 - 18s/epoch - 323ms/step\n",
      "Epoch 8/20\n",
      "57/57 - 19s - loss: 0.4825 - accuracy: 0.8215 - val_loss: 0.5690 - val_accuracy: 0.7805 - lr: 1.0000e-04 - 19s/epoch - 334ms/step\n",
      "Epoch 9/20\n",
      "57/57 - 19s - loss: 0.4781 - accuracy: 0.8381 - val_loss: 0.5440 - val_accuracy: 0.8137 - lr: 1.0000e-04 - 19s/epoch - 330ms/step\n",
      "Epoch 10/20\n",
      "57/57 - 18s - loss: 0.4447 - accuracy: 0.8581 - val_loss: 0.5441 - val_accuracy: 0.8160 - lr: 1.0000e-04 - 18s/epoch - 313ms/step\n",
      "Epoch 11/20\n",
      "57/57 - 20s - loss: 0.4178 - accuracy: 0.8570 - val_loss: 0.5219 - val_accuracy: 0.8071 - lr: 9.0000e-05 - 20s/epoch - 346ms/step\n",
      "Epoch 12/20\n",
      "57/57 - 20s - loss: 0.3940 - accuracy: 0.8614 - val_loss: 0.5171 - val_accuracy: 0.8226 - lr: 9.0000e-05 - 20s/epoch - 345ms/step\n",
      "Epoch 13/20\n",
      "57/57 - 17s - loss: 0.3937 - accuracy: 0.8625 - val_loss: 0.5380 - val_accuracy: 0.8204 - lr: 9.0000e-05 - 17s/epoch - 305ms/step\n",
      "Epoch 14/20\n",
      "57/57 - 18s - loss: 0.3595 - accuracy: 0.8792 - val_loss: 0.5658 - val_accuracy: 0.8160 - lr: 9.0000e-05 - 18s/epoch - 309ms/step\n",
      "Epoch 15/20\n",
      "57/57 - 18s - loss: 0.3468 - accuracy: 0.8864 - val_loss: 0.4754 - val_accuracy: 0.8448 - lr: 9.0000e-05 - 18s/epoch - 319ms/step\n",
      "Epoch 16/20\n",
      "57/57 - 17s - loss: 0.3136 - accuracy: 0.8914 - val_loss: 0.5246 - val_accuracy: 0.8093 - lr: 9.0000e-05 - 17s/epoch - 307ms/step\n",
      "Epoch 17/20\n",
      "57/57 - 17s - loss: 0.3207 - accuracy: 0.8897 - val_loss: 0.4871 - val_accuracy: 0.8271 - lr: 9.0000e-05 - 17s/epoch - 303ms/step\n",
      "Epoch 18/20\n",
      "57/57 - 18s - loss: 0.2939 - accuracy: 0.9035 - val_loss: 0.4848 - val_accuracy: 0.8248 - lr: 9.0000e-05 - 18s/epoch - 316ms/step\n",
      "Epoch 19/20\n",
      "57/57 - 17s - loss: 0.2947 - accuracy: 0.8997 - val_loss: 0.5250 - val_accuracy: 0.8160 - lr: 9.0000e-05 - 17s/epoch - 300ms/step\n",
      "Epoch 20/20\n",
      "57/57 - 17s - loss: 0.2651 - accuracy: 0.9091 - val_loss: 0.5039 - val_accuracy: 0.8226 - lr: 9.0000e-05 - 17s/epoch - 299ms/step\n"
     ]
    }
   ],
   "source": [
    "history = model.fit(X_train, y_train, validation_data=(X_val,y_val), epochs=20, verbose=2, batch_size=32,callbacks = callbacks_all)"
   ]
  },
  {
   "cell_type": "code",
   "execution_count": 16,
   "metadata": {},
   "outputs": [
    {
     "data": {
      "text/plain": [
       "<matplotlib.legend.Legend at 0x218cd5d27c0>"
      ]
     },
     "execution_count": 16,
     "metadata": {},
     "output_type": "execute_result"
    },
    {
     "data": {
      "image/png": "[encoded data removed]",
      "text/plain": [
       "<Figure size 640x480 with 1 Axes>"
      ]
     },
     "metadata": {},
     "output_type": "display_data"
    }
   ],
   "source": [
    "import matplotlib.pyplot as plt\n",
    "\n",
    "plt.plot(history.epoch, history.history['accuracy'], color='blue', label='Train')\n",
    "plt.plot(history.epoch, history.history['val_accuracy'],color='green', label='Val')\n",
    "plt.xlabel('Epoch')\n",
    "plt.xlim([0,30])\n",
    "plt.ylabel('Accuracy')\n",
    "plt.legend()"
   ]
  },
  {
   "cell_type": "code",
   "execution_count": 19,
   "metadata": {},
   "outputs": [
    {
     "data": {
      "image/png": "[encoded data removed]",
      "text/plain": [
       "<Figure size 640x480 with 1 Axes>"
      ]
     },
     "metadata": {},
     "output_type": "display_data"
    }
   ],
   "source": [
    "colors = plt.rcParams['axes.prop_cycle'].by_key()['color']\n",
    "\n",
    "def plot_loss(history, label, n):\n",
    "    # Use a log scale on y-axis to show the wide range of values.\n",
    "    plt.plot(history.epoch, history.history['loss'],\n",
    "               color='blue', label='Train ' + label)\n",
    "    plt.plot(history.epoch, history.history['val_loss'],color='green', label='Val ' + label,linestyle=\"--\")\n",
    "    plt.ylim([0, plt.ylim()[1]])         \n",
    "    plt.xlabel('Epoch')\n",
    "    plt.ylabel('Loss')\n",
    "    plt.legend()\n",
    "\n",
    "plot_loss(history, 'loss', 0)"
   ]
  },
  {
   "cell_type": "code",
   "execution_count": 20,
   "metadata": {},
   "outputs": [
    {
     "name": "stdout",
     "output_type": "stream",
     "text": [
      "Adding images in  0\n",
      "\t 377  images\n",
      "Adding images in  1\n",
      "\t 214  images\n",
      "Adding images in  2\n",
      "\t 1000  images\n",
      "Adding images in  3\n",
      "\t 1000  images\n"
     ]
    }
   ],
   "source": [
    "test = []\n",
    "labels = []\n",
    "\n",
    "label = 0\n",
    "for classes in os.listdir('Test_Data/'):\n",
    "    class_folder = os.path.join('Test_Data',classes)\n",
    "    print('Adding images in ',classes)\n",
    "    #print(class_folder)\n",
    "    img_ct = 0\n",
    "    for image_name in os.listdir(class_folder):\n",
    "        img_name = os.path.join(class_folder,image_name)\n",
    "        img = cv2.imread(img_name)\n",
    "        #resize\n",
    "        #print(img_name)\n",
    "        img = cv2.resize(img,(128,128))\n",
    "        #normalize\n",
    "        img = img/255.0\n",
    "        test.append(img)\n",
    "        labels.append(int(classes))\n",
    "        img_ct+=1\n",
    "    print('\\t',img_ct,' images')\n",
    "    label=label+1"
   ]
  },
  {
   "cell_type": "code",
   "execution_count": 21,
   "metadata": {},
   "outputs": [],
   "source": [
    "X_test = np.array(test)\n",
    "Y_test = to_categorical(labels, 4)\n",
    "X_test = X_test.reshape(-1, 128, 128, 3)"
   ]
  },
  {
   "cell_type": "code",
   "execution_count": 22,
   "metadata": {},
   "outputs": [
    {
     "data": {
      "text/plain": [
       "(2591, 128, 128, 3)"
      ]
     },
     "execution_count": 22,
     "metadata": {},
     "output_type": "execute_result"
    }
   ],
   "source": [
    "X_test.shape"
   ]
  },
  {
   "cell_type": "code",
   "execution_count": 23,
   "metadata": {},
   "outputs": [
    {
     "data": {
      "text/plain": [
       "array([[1., 0., 0., 0.],\n",
       "       [1., 0., 0., 0.],\n",
       "       [1., 0., 0., 0.],\n",
       "       ...,\n",
       "       [0., 0., 0., 1.],\n",
       "       [0., 0., 0., 1.],\n",
       "       [0., 0., 0., 1.]], dtype=float32)"
      ]
     },
     "execution_count": 23,
     "metadata": {},
     "output_type": "execute_result"
    }
   ],
   "source": [
    "Y_test"
   ]
  },
  {
   "cell_type": "code",
   "execution_count": 24,
   "metadata": {},
   "outputs": [
    {
     "name": "stdout",
     "output_type": "stream",
     "text": [
      "81/81 [==============================] - 6s 70ms/step\n"
     ]
    }
   ],
   "source": [
    "Y_pred = model.predict(X_test)\n"
   ]
  },
  {
   "cell_type": "code",
   "execution_count": 25,
   "metadata": {},
   "outputs": [],
   "source": [
    "Y_pred_classes = np.argmax(Y_pred,axis = 1) "
   ]
  },
  {
   "cell_type": "code",
   "execution_count": 26,
   "metadata": {},
   "outputs": [
    {
     "data": {
      "text/plain": [
       "array([0, 0, 0, ..., 2, 3, 3], dtype=int64)"
      ]
     },
     "execution_count": 26,
     "metadata": {},
     "output_type": "execute_result"
    }
   ],
   "source": [
    "Y_pred_classes"
   ]
  },
  {
   "cell_type": "code",
   "execution_count": 27,
   "metadata": {},
   "outputs": [],
   "source": [
    "# Convert validation observations to one hot vectors\n",
    "Y_true = np.argmax(Y_test,axis = 1) "
   ]
  },
  {
   "cell_type": "code",
   "execution_count": 28,
   "metadata": {},
   "outputs": [
    {
     "data": {
      "text/plain": [
       "array([0, 0, 0, ..., 3, 3, 3], dtype=int64)"
      ]
     },
     "execution_count": 28,
     "metadata": {},
     "output_type": "execute_result"
    }
   ],
   "source": [
    "Y_true"
   ]
  },
  {
   "cell_type": "code",
   "execution_count": 29,
   "metadata": {},
   "outputs": [],
   "source": [
    "import itertools\n",
    "from sklearn.metrics import roc_curve, roc_auc_score\n",
    "import matplotlib.pyplot as plt\n",
    "\n",
    "def plot_confusion_matrix(cm, classes,\n",
    "                          normalize=False,\n",
    "                          title='Confusion matrix',\n",
    "                          cmap=plt.cm.Blues):\n",
    "    \"\"\"\n",
    "    This function prints and plots the confusion matrix.\n",
    "    Normalization can be applied by setting `normalize=True`.\n",
    "    \"\"\"\n",
    "    plt.imshow(cm, interpolation='nearest', cmap=cmap)\n",
    "    plt.title(title)\n",
    "    plt.colorbar()\n",
    "    tick_marks = np.arange(len(classes))\n",
    "    plt.xticks(tick_marks, classes, rotation=45)\n",
    "    plt.yticks(tick_marks, classes)\n",
    "\n",
    "    if normalize:\n",
    "        cm = cm.astype('float') / cm.sum(axis=1)[:, np.newaxis]\n",
    "\n",
    "    thresh = cm.max() / 2.\n",
    "    for i, j in itertools.product(range(cm.shape[0]), range(cm.shape[1])):\n",
    "        plt.text(j, i, cm[i, j],\n",
    "                 horizontalalignment=\"center\",\n",
    "                 color=\"white\" if cm[i, j] > thresh else \"black\")\n",
    "\n",
    "    plt.tight_layout()\n",
    "    plt.ylabel('True label')\n",
    "    plt.xlabel('Predicted label')"
   ]
  },
  {
   "cell_type": "code",
   "execution_count": 30,
   "metadata": {},
   "outputs": [
    {
     "data": {
      "image/png": "[encoded data removed]",
      "text/plain": [
       "<Figure size 640x480 with 2 Axes>"
      ]
     },
     "metadata": {},
     "output_type": "display_data"
    }
   ],
   "source": [
    "from sklearn.metrics import confusion_matrix\n",
    "\n",
    "confusion_mtx = confusion_matrix(Y_true, Y_pred_classes) \n",
    "plot_confusion_matrix(confusion_mtx, classes = ['Lightning','Rain','Cloudy','Sunny'])"
   ]
  },
  {
   "cell_type": "code",
   "execution_count": 31,
   "metadata": {},
   "outputs": [],
   "source": [
    "test_acc = (364+100+596+842)*100/len(X_test)"
   ]
  },
  {
   "cell_type": "code",
   "execution_count": 32,
   "metadata": {},
   "outputs": [
    {
     "data": {
      "text/plain": [
       "73.40795059822463"
      ]
     },
     "execution_count": 32,
     "metadata": {},
     "output_type": "execute_result"
    }
   ],
   "source": [
    "test_acc"
   ]
  },
  {
   "cell_type": "code",
   "execution_count": null,
   "metadata": {},
   "outputs": [],
   "source": []
  }
 ],
 "metadata": {
  "kernelspec": {
   "display_name": "Python 3.9.13 ('project')",
   "language": "python",
   "name": "python3"
  },
  "language_info": {
   "codemirror_mode": {
    "name": "ipython",
    "version": 3
   },
   "file_extension": ".py",
   "mimetype": "text/x-python",
   "name": "python",
   "nbconvert_exporter": "python",
   "pygments_lexer": "ipython3",
   "version": "3.9.13"
  },
  "orig_nbformat": 4,
  "vscode": {
   "interpreter": {
    "hash": "ae0234c7b3f04e6eafca990e433740df3b8489045b2079dac0d895dfea655336"
   }
  }
 },
 "nbformat": 4,
 "nbformat_minor": 2
}
